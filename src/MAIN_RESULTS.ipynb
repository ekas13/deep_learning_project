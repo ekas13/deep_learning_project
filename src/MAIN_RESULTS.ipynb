{
  "cells": [
    {
      "cell_type": "markdown",
      "metadata": {
        "id": "GpyBFoF_E5j1"
      },
      "source": [
        "## MNIST - best model\n",
        "\n",
        "In the following cell we load our best MNIST model and show 4 samples from it"
      ]
    },
    {
      "cell_type": "code",
      "source": [
        "%cd deep_learning_project/src"
      ],
      "metadata": {
        "id": "UsIj8vLWFEkC",
        "outputId": "6c8d306a-dea8-41f9-e464-ae04f896ffa2",
        "colab": {
          "base_uri": "https://localhost:8080/"
        }
      },
      "execution_count": 20,
      "outputs": [
        {
          "output_type": "stream",
          "name": "stdout",
          "text": [
            "/content/deep_learning_project/src/deep_learning_project/src\n"
          ]
        }
      ]
    },
    {
      "cell_type": "code",
      "execution_count": 21,
      "metadata": {
        "id": "7K5cAS3lE5j3",
        "outputId": "6d121ac4-b3c8-4765-b1de-830dfa5f187f",
        "colab": {
          "base_uri": "https://localhost:8080/",
          "height": 489
        }
      },
      "outputs": [
        {
          "output_type": "stream",
          "name": "stdout",
          "text": [
            "No label embedding found\n",
            "Sample 1 generated\n",
            "Sample 2 generated\n",
            "Sample 3 generated\n",
            "Sample 4 generated\n",
            "0 sample\n",
            "1 sample\n"
          ]
        },
        {
          "output_type": "display_data",
          "data": {
            "text/plain": [
              "<Figure size 400x400 with 1 Axes>"
            ],
            "image/png": "[encoded data removed]"
          },
          "metadata": {}
        }
      ],
      "source": [
        "# load model, show a few samples, FID score\n",
        "import torch\n",
        "from models.ddpm import DDPM\n",
        "import numpy as np\n",
        "from networks.score_network import score_network_0\n",
        "import matplotlib.pyplot as plt\n",
        "from visualizer import plot_samples\n",
        "\n",
        "NUM_SAMPLES = 4\n",
        "\n",
        "device = torch.device('cuda' if torch.cuda.is_available() else 'cpu')\n",
        "\n",
        "results_path = \"../results/mnist/best/\"\n",
        "\n",
        "ddpm = DDPM(device=device, network=score_network_0(), p_unconditional=1, scheduler=\"linear\")\n",
        "ddpm.load(f\"{results_path}\")\n",
        "\n",
        "samples = []\n",
        "\n",
        "for i in range(NUM_SAMPLES):\n",
        "    sample, sample_steps = ddpm.sample()\n",
        "    samples.append(sample.view(1, 28, 28))\n",
        "    print(f\"Sample {i+1} generated\")\n",
        "\n",
        "samples = torch.cat(samples, dim=0)\n",
        "samples = samples.cpu().numpy()\n",
        "sampled_data = np.asarray(samples)\n",
        "\n",
        "plot_samples(samples, None)"
      ]
    },
    {
      "cell_type": "markdown",
      "metadata": {
        "id": "F0EgYQpDE5j4"
      },
      "source": [
        "We now also look at the FID score for this model by loading previously sampled 30000 points and caluclating the FID."
      ]
    },
    {
      "cell_type": "code",
      "execution_count": 22,
      "metadata": {
        "id": "aDzezEHYE5j4",
        "outputId": "0c772ac6-e496-47d7-8554-cf94fe974dc7",
        "colab": {
          "base_uri": "https://localhost:8080/"
        }
      },
      "outputs": [
        {
          "output_type": "stream",
          "name": "stdout",
          "text": [
            "Downloading http://yann.lecun.com/exdb/mnist/train-images-idx3-ubyte.gz\n",
            "Failed to download (trying next):\n",
            "HTTP Error 403: Forbidden\n",
            "\n",
            "Downloading https://ossci-datasets.s3.amazonaws.com/mnist/train-images-idx3-ubyte.gz\n",
            "Downloading https://ossci-datasets.s3.amazonaws.com/mnist/train-images-idx3-ubyte.gz to ./temp/MNIST/raw/train-images-idx3-ubyte.gz\n"
          ]
        },
        {
          "output_type": "stream",
          "name": "stderr",
          "text": [
            "100%|██████████| 9.91M/9.91M [00:00<00:00, 57.9MB/s]\n"
          ]
        },
        {
          "output_type": "stream",
          "name": "stdout",
          "text": [
            "Extracting ./temp/MNIST/raw/train-images-idx3-ubyte.gz to ./temp/MNIST/raw\n",
            "\n",
            "Downloading http://yann.lecun.com/exdb/mnist/train-labels-idx1-ubyte.gz\n",
            "Failed to download (trying next):\n",
            "HTTP Error 403: Forbidden\n",
            "\n",
            "Downloading https://ossci-datasets.s3.amazonaws.com/mnist/train-labels-idx1-ubyte.gz\n",
            "Downloading https://ossci-datasets.s3.amazonaws.com/mnist/train-labels-idx1-ubyte.gz to ./temp/MNIST/raw/train-labels-idx1-ubyte.gz\n"
          ]
        },
        {
          "output_type": "stream",
          "name": "stderr",
          "text": [
            "100%|██████████| 28.9k/28.9k [00:00<00:00, 1.78MB/s]"
          ]
        },
        {
          "output_type": "stream",
          "name": "stdout",
          "text": [
            "Extracting ./temp/MNIST/raw/train-labels-idx1-ubyte.gz to ./temp/MNIST/raw\n",
            "\n",
            "Downloading http://yann.lecun.com/exdb/mnist/t10k-images-idx3-ubyte.gz\n"
          ]
        },
        {
          "output_type": "stream",
          "name": "stderr",
          "text": [
            "\n"
          ]
        },
        {
          "output_type": "stream",
          "name": "stdout",
          "text": [
            "Failed to download (trying next):\n",
            "HTTP Error 403: Forbidden\n",
            "\n",
            "Downloading https://ossci-datasets.s3.amazonaws.com/mnist/t10k-images-idx3-ubyte.gz\n",
            "Downloading https://ossci-datasets.s3.amazonaws.com/mnist/t10k-images-idx3-ubyte.gz to ./temp/MNIST/raw/t10k-images-idx3-ubyte.gz\n"
          ]
        },
        {
          "output_type": "stream",
          "name": "stderr",
          "text": [
            "100%|██████████| 1.65M/1.65M [00:00<00:00, 14.3MB/s]\n"
          ]
        },
        {
          "output_type": "stream",
          "name": "stdout",
          "text": [
            "Extracting ./temp/MNIST/raw/t10k-images-idx3-ubyte.gz to ./temp/MNIST/raw\n",
            "\n",
            "Downloading http://yann.lecun.com/exdb/mnist/t10k-labels-idx1-ubyte.gz\n",
            "Failed to download (trying next):\n",
            "HTTP Error 403: Forbidden\n",
            "\n",
            "Downloading https://ossci-datasets.s3.amazonaws.com/mnist/t10k-labels-idx1-ubyte.gz\n",
            "Downloading https://ossci-datasets.s3.amazonaws.com/mnist/t10k-labels-idx1-ubyte.gz to ./temp/MNIST/raw/t10k-labels-idx1-ubyte.gz\n"
          ]
        },
        {
          "output_type": "stream",
          "name": "stderr",
          "text": [
            "100%|██████████| 4.54k/4.54k [00:00<00:00, 3.22MB/s]"
          ]
        },
        {
          "output_type": "stream",
          "name": "stdout",
          "text": [
            "Extracting ./temp/MNIST/raw/t10k-labels-idx1-ubyte.gz to ./temp/MNIST/raw\n",
            "\n"
          ]
        },
        {
          "output_type": "stream",
          "name": "stderr",
          "text": [
            "\n"
          ]
        },
        {
          "output_type": "stream",
          "name": "stdout",
          "text": [
            "FID score for 30000 samples on train set: 3.4794171860228538\n"
          ]
        }
      ],
      "source": [
        "from data.data_loader import data_loader\n",
        "from metrics import fid_score\n",
        "\n",
        "NUM_SAMPLES = 30000\n",
        "device = torch.device('cuda' if torch.cuda.is_available() else 'cpu')\n",
        "\n",
        "samples_1 = np.load(\"../results/mnist/best/samples_1.npy\")\n",
        "samples_2 = np.load(\"../results/mnist/best/samples_2.npy\")\n",
        "\n",
        "\n",
        "sampled_data = np.concatenate((samples_1, samples_2), axis=0).reshape(NUM_SAMPLES, 1, 28, 28)\n",
        "\n",
        "train_data_loader = data_loader(\"MNIST\", 64, device)\n",
        "train_data = train_data_loader.x_train.view(-1, 1, 28, 28).cpu().numpy()[:NUM_SAMPLES, :]\n",
        "\n",
        "score = fid_score(sampled_data, train_data, batch_size=50)\n",
        "\n",
        "print(f\"FID score for {NUM_SAMPLES} samples on train set: {score}\")"
      ]
    },
    {
      "cell_type": "markdown",
      "metadata": {
        "id": "0P7ApIHRE5j5"
      },
      "source": [
        "## MNIST - CFG\n",
        "\n",
        "We now load our best CFG model and show it can sample with a given label, we use \"4\".\n",
        "We now use the `score_network_1` class."
      ]
    },
    {
      "cell_type": "code",
      "execution_count": 23,
      "metadata": {
        "id": "EEECIh_zE5j5",
        "outputId": "1b098984-9e45-4a97-f073-41c67d539efd",
        "colab": {
          "base_uri": "https://localhost:8080/",
          "height": 489
        }
      },
      "outputs": [
        {
          "output_type": "stream",
          "name": "stdout",
          "text": [
            "torch.Size([1000, 28])\n",
            "Sample 1 generated\n",
            "Sample 2 generated\n",
            "Sample 3 generated\n",
            "Sample 4 generated\n",
            "0 sample\n",
            "1 sample\n"
          ]
        },
        {
          "output_type": "display_data",
          "data": {
            "text/plain": [
              "<Figure size 400x400 with 1 Axes>"
            ],
            "image/png": "[encoded data removed]"
          },
          "metadata": {}
        }
      ],
      "source": [
        "# load model, show a few samples, FID score\n",
        "import torch\n",
        "from models.ddpm import DDPM\n",
        "import numpy as np\n",
        "from networks.score_network import score_network_1\n",
        "import matplotlib.pyplot as plt\n",
        "from visualizer import plot_samples\n",
        "\n",
        "NUM_SAMPLES = 4\n",
        "\n",
        "device = torch.device('cuda' if torch.cuda.is_available() else 'cpu')\n",
        "\n",
        "results_path = \"../results/cfg/best\"\n",
        "\n",
        "ddpm = DDPM(device=device, network=score_network_1(), p_unconditional=0.1, scheduler=\"cosine\")\n",
        "ddpm.load(f\"{results_path}\")\n",
        "\n",
        "samples = []\n",
        "\n",
        "for i in range(NUM_SAMPLES):\n",
        "    sample, sample_steps = ddpm.sample(label=4, w=3)\n",
        "    samples.append(sample.view(1, 28, 28))\n",
        "    print(f\"Sample {i+1} generated\")\n",
        "\n",
        "samples = torch.cat(samples, dim=0)\n",
        "samples = samples.cpu().numpy()\n",
        "sampled_data = np.asarray(samples)\n",
        "\n",
        "plot_samples(samples, None)"
      ]
    },
    {
      "cell_type": "markdown",
      "metadata": {
        "id": "h5ygCZ5XE5j6"
      },
      "source": [
        "We now also look at the FID score for this model by loading previously sampled __ points and caluclating the FID."
      ]
    },
    {
      "cell_type": "code",
      "execution_count": 33,
      "metadata": {
        "id": "bCJFQW3eE5j6",
        "outputId": "44580769-de12-43cb-cfc0-9ac08573f445",
        "colab": {
          "base_uri": "https://localhost:8080/"
        }
      },
      "outputs": [
        {
          "output_type": "stream",
          "name": "stdout",
          "text": [
            "FID score for 10000 samples on train set: 1.0176462501456474\n"
          ]
        }
      ],
      "source": [
        "# load samples, calculate fid, print it...\n",
        "NUM_SAMPLES = 10000\n",
        "device = torch.device('cuda' if torch.cuda.is_available() else 'cpu')\n",
        "\n",
        "samples_1 = np.load(\"../results/cfg/10000_samples_epoch_500.npy\")\n",
        "\n",
        "\n",
        "sampled_data = samples_1.reshape(NUM_SAMPLES, 1, 28, 28)\n",
        "\n",
        "train_data_loader = data_loader(\"MNIST\", 64, device)\n",
        "train_data = train_data_loader.x_train.view(-1, 1, 28, 28).cpu().numpy()[:NUM_SAMPLES, :]\n",
        "\n",
        "score = fid_score(sampled_data, train_data, batch_size=50)\n",
        "\n",
        "print(f\"FID score for {NUM_SAMPLES} samples on train set: {score}\")"
      ]
    }
  ],
  "metadata": {
    "kernelspec": {
      "display_name": "Python 3",
      "language": "python",
      "name": "python3"
    },
    "language_info": {
      "codemirror_mode": {
        "name": "ipython",
        "version": 3
      },
      "file_extension": ".py",
      "mimetype": "text/x-python",
      "name": "python",
      "nbconvert_exporter": "python",
      "pygments_lexer": "ipython3",
      "version": "3.11.5"
    },
    "colab": {
      "provenance": []
    }
  },
  "nbformat": 4,
  "nbformat_minor": 0
}