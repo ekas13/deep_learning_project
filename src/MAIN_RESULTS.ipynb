{
 "cells": [
  {
   "cell_type": "markdown",
   "metadata": {},
   "source": [
    "## MNIST - best model\n",
    "\n",
    "In the following cell we load our best MNIST model and show 4 samples from it"
   ]
  },
  {
   "cell_type": "code",
   "execution_count": null,
   "metadata": {},
   "outputs": [],
   "source": [
    "# load model, show a few samples, FID score\n",
    "import torch\n",
    "from models.ddpm import DDPM\n",
    "import numpy as np\n",
    "from networks.score_network import score_network_0\n",
    "import matplotlib.pyplot as plt\n",
    "from visualizer import plot_samples\n",
    "\n",
    "NUM_SAMPLES = 4\n",
    "\n",
    "device = torch.device('cuda' if torch.cuda.is_available() else 'cpu')\n",
    "\n",
    "results_path = \"../results/mnist/best/\"\n",
    "\n",
    "ddpm = DDPM(device=device, network=score_network_0(), p_unconditional=1, scheduler=\"linear\")\n",
    "ddpm.load(f\"{results_path}\")\n",
    "\n",
    "samples = []\t\n",
    "\n",
    "for i in range(NUM_SAMPLES):\n",
    "    sample, sample_steps = ddpm.sample()\n",
    "    samples.append(sample.view(1, 28, 28))\n",
    "    print(f\"Sample {i+1} generated\")\n",
    "\n",
    "samples = torch.cat(samples, dim=0)\n",
    "samples = samples.cpu().numpy()\n",
    "sampled_data = np.asarray(samples)\n",
    "\n",
    "plot_samples(samples, None)"
   ]
  },
  {
   "cell_type": "markdown",
   "metadata": {},
   "source": [
    "We now also look at the FID score for this model by loading previously sampled 30000 points and caluclating the FID."
   ]
  },
  {
   "cell_type": "code",
   "execution_count": 3,
   "metadata": {},
   "outputs": [
    {
     "name": "stdout",
     "output_type": "stream",
     "text": [
      "FID score for 30000 samples on train set: 3.4794166376223714\n"
     ]
    }
   ],
   "source": [
    "from data.data_loader import data_loader\n",
    "from metrics import fid_score\n",
    "\n",
    "NUM_SAMPLES = 30000\n",
    "device = torch.device('cuda' if torch.cuda.is_available() else 'cpu')\n",
    "\n",
    "samples_1 = np.load(\"../results/mnist/best/samples_1.npy\")\n",
    "samples_2 = np.load(\"../results/mnist/best/samples_2.npy\")\n",
    "\n",
    "\n",
    "sampled_data = np.concatenate((samples_1, samples_2), axis=0).reshape(NUM_SAMPLES, 1, 28, 28)\n",
    "\n",
    "train_data_loader = data_loader(\"MNIST\", 64, device)\n",
    "train_data = train_data_loader.x_train.view(-1, 1, 28, 28).cpu().numpy()[:NUM_SAMPLES, :]\n",
    "\n",
    "score = fid_score(sampled_data, train_data, batch_size=50)\n",
    "\n",
    "print(f\"FID score for {NUM_SAMPLES} samples on train set: {score}\")"
   ]
  },
  {
   "cell_type": "markdown",
   "metadata": {},
   "source": [
    "## MNIST - CFG \n",
    "\n",
    "We now load our best CFG model and show it can sample with a given label, we use \"4\".\n",
    "We now use the `score_network_1` class."
   ]
  },
  {
   "cell_type": "code",
   "execution_count": 4,
   "metadata": {},
   "outputs": [
    {
     "name": "stdout",
     "output_type": "stream",
     "text": [
      "torch.Size([1000, 28])\n",
      "Sample 1 generated\n",
      "Sample 2 generated\n",
      "Sample 3 generated\n",
      "Sample 4 generated\n",
      "0 sample\n",
      "1 sample\n"
     ]
    },
    {
     "data": {
      "image/png": "[encoded data removed]",
      "text/plain": [
       "<Figure size 400x400 with 1 Axes>"
      ]
     },
     "metadata": {},
     "output_type": "display_data"
    }
   ],
   "source": [
    "# load model, show a few samples, FID score\n",
    "import torch\n",
    "from models.ddpm import DDPM\n",
    "import numpy as np\n",
    "from networks.score_network import score_network_1\n",
    "import matplotlib.pyplot as plt\n",
    "from visualizer import plot_samples\n",
    "\n",
    "NUM_SAMPLES = 4\n",
    "\n",
    "device = torch.device('cuda' if torch.cuda.is_available() else 'cpu')\n",
    "\n",
    "results_path = \"../results/cfg/best\"\n",
    "\n",
    "ddpm = DDPM(device=device, network=score_network_1(), p_unconditional=0.1, scheduler=\"cosine\")\n",
    "ddpm.load(f\"{results_path}\")\n",
    "\n",
    "samples = []\t\n",
    "\n",
    "for i in range(NUM_SAMPLES):\n",
    "    sample, sample_steps = ddpm.sample(label=4, w=3)\n",
    "    samples.append(sample.view(1, 28, 28))\n",
    "    print(f\"Sample {i+1} generated\")\n",
    "\n",
    "samples = torch.cat(samples, dim=0)\n",
    "samples = samples.cpu().numpy()\n",
    "sampled_data = np.asarray(samples)\n",
    "\n",
    "plot_samples(samples, None)"
   ]
  },
  {
   "cell_type": "markdown",
   "metadata": {},
   "source": [
    "We now also look at the FID score for this model by loading previously sampled __ points and caluclating the FID."
   ]
  },
  {
   "cell_type": "code",
   "execution_count": null,
   "metadata": {},
   "outputs": [],
   "source": [
    "# load samples, calculate fid, print it...\n",
    "NUM_SAMPLES = 10000\n",
    "device = torch.device('cuda' if torch.cuda.is_available() else 'cpu')\n",
    "\n",
    "samples_1 = np.load(\"../results/cfg/best/1000_samples_epoch_500.npy\")\n",
    "\n",
    "\n",
    "sampled_data = samples_1.reshape(NUM_SAMPLES, 1, 28, 28)\n",
    "\n",
    "train_data_loader = data_loader(\"MNIST\", 64, device)\n",
    "train_data = train_data_loader.x_train.view(-1, 1, 28, 28).cpu().numpy()[:NUM_SAMPLES, :]\n",
    "\n",
    "score = fid_score(sampled_data, train_data, batch_size=50)\n",
    "\n",
    "print(f\"FID score for {NUM_SAMPLES} samples on train set: {score}\")"
   ]
  }
 ],
 "metadata": {
  "kernelspec": {
   "display_name": "Python 3",
   "language": "python",
   "name": "python3"
  },
  "language_info": {
   "codemirror_mode": {
    "name": "ipython",
    "version": 3
   },
   "file_extension": ".py",
   "mimetype": "text/x-python",
   "name": "python",
   "nbconvert_exporter": "python",
   "pygments_lexer": "ipython3",
   "version": "3.11.5"
  }
 },
 "nbformat": 4,
 "nbformat_minor": 2
}
