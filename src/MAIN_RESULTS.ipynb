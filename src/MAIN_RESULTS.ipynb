{
  "cells": [
    {
      "cell_type": "markdown",
      "metadata": {
        "id": "GpyBFoF_E5j1"
      },
      "source": [
        "## MNIST - best model\n",
        "\n",
        "In the following cell we load our best MNIST model and show 4 samples from it"
      ]
    },
    {
      "cell_type": "code",
      "execution_count": 7,
      "metadata": {
        "colab": {
          "base_uri": "https://localhost:8080/",
          "height": 489
        },
        "id": "7K5cAS3lE5j3",
        "outputId": "def8eb76-6965-4668-f91e-30808425c806"
      },
      "outputs": [
        {
          "name": "stdout",
          "output_type": "stream",
          "text": [
            "No label embedding found\n",
            "Sample 1 generated\n",
            "Sample 2 generated\n",
            "Sample 3 generated\n",
            "Sample 4 generated\n",
            "0 sample\n",
            "1 sample\n"
          ]
        },
        {
          "data": {
            "image/png": "[encoded data removed]",
            "text/plain": [
              "<Figure size 400x400 with 1 Axes>"
            ]
          },
          "metadata": {},
          "output_type": "display_data"
        }
      ],
      "source": [
        "# load model, show a few samples, FID score\n",
        "import torch\n",
        "from models.ddpm import DDPM\n",
        "import numpy as np\n",
        "from networks.score_network import score_network_0\n",
        "import matplotlib.pyplot as plt\n",
        "from visualizer import plot_samples\n",
        "\n",
        "NUM_SAMPLES = 4\n",
        "\n",
        "device = torch.device('cuda' if torch.cuda.is_available() else 'cpu')\n",
        "\n",
        "results_path = \"../results/mnist/best/1\"\n",
        "\n",
        "ddpm = DDPM(device=device, network=score_network_0(), p_unconditional=1, scheduler=\"linear\")\n",
        "ddpm.load(f\"{results_path}\")\n",
        "\n",
        "samples = []\n",
        "\n",
        "for i in range(NUM_SAMPLES):\n",
        "    sample, sample_steps = ddpm.sample()\n",
        "    samples.append(sample.view(1, 28, 28))\n",
        "    print(f\"Sample {i+1} generated\")\n",
        "\n",
        "samples = torch.cat(samples, dim=0)\n",
        "samples = samples.cpu().numpy()\n",
        "sampled_data = np.asarray(samples)\n",
        "\n",
        "plot_samples(samples, None)"
      ]
    },
    {
      "cell_type": "markdown",
      "metadata": {
        "id": "F0EgYQpDE5j4"
      },
      "source": [
        "We now also look at the FID score for this model by loading previously sampled 30000 points and caluclating the FID."
      ]
    },
    {
      "cell_type": "code",
      "execution_count": 8,
      "metadata": {
        "colab": {
          "base_uri": "https://localhost:8080/"
        },
        "id": "aDzezEHYE5j4",
        "outputId": "c9b643bf-3103-49d5-dd0d-1ab5a3967a9c"
      },
      "outputs": [
        {
          "name": "stdout",
          "output_type": "stream",
          "text": [
            "FID score for 10000 samples on train set: 0.8098256493603841\n"
          ]
        }
      ],
      "source": [
        "from data.data_loader import data_loader\n",
        "from metrics import fid_score\n",
        "\n",
        "NUM_SAMPLES = 10000\n",
        "device = torch.device('cuda' if torch.cuda.is_available() else 'cpu')\n",
        "\n",
        "\n",
        "samples_1 = np.load(\"../results/mnist/best/10000_samples_epoch_1000.npy\")\n",
        "\n",
        "\n",
        "sampled_data = samples_1.reshape(NUM_SAMPLES, 1, 28, 28)\n",
        "\n",
        "\n",
        "train_data_loader = data_loader(\"MNIST\", 64, device)\n",
        "train_data = train_data_loader.x_train.view(-1, 1, 28, 28).cpu().numpy()[:NUM_SAMPLES, :]\n",
        "\n",
        "score = fid_score(sampled_data, train_data, batch_size=50)\n",
        "\n",
        "print(f\"FID score for {NUM_SAMPLES} samples on train set: {score}\")"
      ]
    },
    {
      "cell_type": "markdown",
      "metadata": {
        "id": "0P7ApIHRE5j5"
      },
      "source": [
        "## MNIST - CFG\n",
        "\n",
        "We now load our best CFG model and show it can sample with a given label, we use \"4\".\n",
        "We now use the `score_network_1` class."
      ]
    },
    {
      "cell_type": "code",
      "execution_count": 11,
      "metadata": {
        "colab": {
          "base_uri": "https://localhost:8080/",
          "height": 489
        },
        "id": "EEECIh_zE5j5",
        "outputId": "1b098984-9e45-4a97-f073-41c67d539efd"
      },
      "outputs": [
        {
          "name": "stdout",
          "output_type": "stream",
          "text": [
            "torch.Size([1000, 28])\n",
            "Sample 1 generated\n",
            "Sample 2 generated\n",
            "Sample 3 generated\n",
            "Sample 4 generated\n",
            "0 sample\n",
            "1 sample\n"
          ]
        },
        {
          "data": {
            "image/png": "[encoded data removed]",
            "text/plain": [
              "<Figure size 400x400 with 1 Axes>"
            ]
          },
          "metadata": {},
          "output_type": "display_data"
        }
      ],
      "source": [
        "# load model, show a few samples, FID score\n",
        "import torch\n",
        "from models.ddpm import DDPM\n",
        "import numpy as np\n",
        "from networks.score_network import score_network_1\n",
        "import matplotlib.pyplot as plt\n",
        "from visualizer import plot_samples\n",
        "\n",
        "NUM_SAMPLES = 4\n",
        "\n",
        "device = torch.device('cuda' if torch.cuda.is_available() else 'cpu')\n",
        "\n",
        "results_path = \"../results/cfg_mnist/best\"\n",
        "\n",
        "ddpm = DDPM(device=device, network=score_network_1(), p_unconditional=0.1, scheduler=\"cosine\")\n",
        "ddpm.load(f\"{results_path}\")\n",
        "\n",
        "samples = []\n",
        "\n",
        "for i in range(NUM_SAMPLES):\n",
        "    sample, sample_steps = ddpm.sample(label=4, w=3)\n",
        "    samples.append(sample.view(1, 28, 28))\n",
        "    print(f\"Sample {i+1} generated\")\n",
        "\n",
        "samples = torch.cat(samples, dim=0)\n",
        "samples = samples.cpu().numpy()\n",
        "sampled_data = np.asarray(samples)\n",
        "\n",
        "plot_samples(samples, None)"
      ]
    },
    {
      "cell_type": "markdown",
      "metadata": {
        "id": "h5ygCZ5XE5j6"
      },
      "source": [
        "We now also look at the FID score for this model by loading previously sampled __ points and caluclating the FID."
      ]
    },
    {
      "cell_type": "code",
      "execution_count": 10,
      "metadata": {
        "colab": {
          "base_uri": "https://localhost:8080/"
        },
        "id": "bCJFQW3eE5j6",
        "outputId": "44580769-de12-43cb-cfc0-9ac08573f445"
      },
      "outputs": [
        {
          "name": "stdout",
          "output_type": "stream",
          "text": [
            "FID score for 10000 samples on train set: 1.0176463738164596\n"
          ]
        }
      ],
      "source": [
        "# load samples, calculate fid, print it...\n",
        "NUM_SAMPLES = 10000\n",
        "device = torch.device('cuda' if torch.cuda.is_available() else 'cpu')\n",
        "\n",
        "samples_1 = np.load(\"../results/cfg_mnist/10000_samples_epoch_500.npy\")\n",
        "\n",
        "\n",
        "sampled_data = samples_1.reshape(NUM_SAMPLES, 1, 28, 28)\n",
        "\n",
        "train_data_loader = data_loader(\"MNIST\", 64, device)\n",
        "train_data = train_data_loader.x_train.view(-1, 1, 28, 28).cpu().numpy()[:NUM_SAMPLES, :]\n",
        "\n",
        "score = fid_score(sampled_data, train_data, batch_size=50)\n",
        "\n",
        "print(f\"FID score for {NUM_SAMPLES} samples on train set: {score}\")"
      ]
    }
  ],
  "metadata": {
    "colab": {
      "provenance": []
    },
    "kernelspec": {
      "display_name": "venv",
      "language": "python",
      "name": "python3"
    },
    "language_info": {
      "codemirror_mode": {
        "name": "ipython",
        "version": 3
      },
      "file_extension": ".py",
      "mimetype": "text/x-python",
      "name": "python",
      "nbconvert_exporter": "python",
      "pygments_lexer": "ipython3",
      "version": "3.10.12"
    }
  },
  "nbformat": 4,
  "nbformat_minor": 0
}
